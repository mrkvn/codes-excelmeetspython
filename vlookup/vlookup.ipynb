{
 "cells": [
  {
   "cell_type": "markdown",
   "id": "061510e4",
   "metadata": {},
   "source": [
    "# VLOOKUP\n",
    "\n",
    "=VLOOKUP(lookup_value,table_array,col_index_num)"
   ]
  },
  {
   "cell_type": "markdown",
   "id": "979e855b",
   "metadata": {},
   "source": [
    "## Import Dependencies"
   ]
  },
  {
   "cell_type": "code",
   "execution_count": 1,
   "id": "1eed745e",
   "metadata": {},
   "outputs": [],
   "source": [
    "import pandas as pd"
   ]
  },
  {
   "cell_type": "markdown",
   "id": "ca551746",
   "metadata": {},
   "source": [
    "## Import Data"
   ]
  },
  {
   "cell_type": "code",
   "execution_count": 2,
   "id": "c58b75d6",
   "metadata": {},
   "outputs": [
    {
     "data": {
      "text/html": [
       "<div>\n",
       "<style scoped>\n",
       "    .dataframe tbody tr th:only-of-type {\n",
       "        vertical-align: middle;\n",
       "    }\n",
       "\n",
       "    .dataframe tbody tr th {\n",
       "        vertical-align: top;\n",
       "    }\n",
       "\n",
       "    .dataframe thead th {\n",
       "        text-align: right;\n",
       "    }\n",
       "</style>\n",
       "<table border=\"1\" class=\"dataframe\">\n",
       "  <thead>\n",
       "    <tr style=\"text-align: right;\">\n",
       "      <th></th>\n",
       "      <th>Letter</th>\n",
       "      <th>Number</th>\n",
       "      <th>Name</th>\n",
       "    </tr>\n",
       "  </thead>\n",
       "  <tbody>\n",
       "    <tr>\n",
       "      <th>0</th>\n",
       "      <td>a</td>\n",
       "      <td>1</td>\n",
       "      <td>Alice</td>\n",
       "    </tr>\n",
       "    <tr>\n",
       "      <th>1</th>\n",
       "      <td>b</td>\n",
       "      <td>2</td>\n",
       "      <td>Bob</td>\n",
       "    </tr>\n",
       "    <tr>\n",
       "      <th>2</th>\n",
       "      <td>c</td>\n",
       "      <td>3</td>\n",
       "      <td>Charlie</td>\n",
       "    </tr>\n",
       "    <tr>\n",
       "      <th>3</th>\n",
       "      <td>d</td>\n",
       "      <td>4</td>\n",
       "      <td>Diane</td>\n",
       "    </tr>\n",
       "    <tr>\n",
       "      <th>4</th>\n",
       "      <td>e</td>\n",
       "      <td>4</td>\n",
       "      <td>Elen</td>\n",
       "    </tr>\n",
       "  </tbody>\n",
       "</table>\n",
       "</div>"
      ],
      "text/plain": [
       "  Letter  Number     Name\n",
       "0      a       1    Alice\n",
       "1      b       2      Bob\n",
       "2      c       3  Charlie\n",
       "3      d       4    Diane\n",
       "4      e       4     Elen"
      ]
     },
     "execution_count": 2,
     "metadata": {},
     "output_type": "execute_result"
    }
   ],
   "source": [
    "df = pd.read_csv('vlookup.csv')\n",
    "df"
   ]
  },
  {
   "cell_type": "markdown",
   "id": "640775ab",
   "metadata": {},
   "source": [
    "In our data, we have columns. ___Letter___, ___Number___ and ___Name___"
   ]
  },
  {
   "cell_type": "markdown",
   "id": "bbdf1fa8",
   "metadata": {},
   "source": [
    "## Problem\n",
    "\n",
    "Lookup for the ___Name___ of ___Number___ 4."
   ]
  },
  {
   "cell_type": "markdown",
   "id": "f301315d",
   "metadata": {},
   "source": [
    "## Answer\n",
    "\n",
    "If we do a ___VLOOKUP___ in Excel, we'd get _Diane_ as the answer."
   ]
  },
  {
   "cell_type": "markdown",
   "id": "2c7f1aeb",
   "metadata": {},
   "source": [
    "Using the ___VLOOKUP___ formula, we know that our:\n",
    "\n",
    "- ___lookup_value___ is _4_\n",
    "- ___col_index_num___ is _2_ using the\n",
    "- ___table_array___ columns from ___Number___ to ___Name___"
   ]
  },
  {
   "cell_type": "code",
   "execution_count": 3,
   "id": "2750351f",
   "metadata": {},
   "outputs": [],
   "source": [
    "lookup_value = 4\n",
    "col_index_num = 2"
   ]
  },
  {
   "cell_type": "markdown",
   "id": "7bdc1f2e",
   "metadata": {},
   "source": [
    "## Get table_array"
   ]
  },
  {
   "cell_type": "code",
   "execution_count": 4,
   "id": "fc82d3fd",
   "metadata": {},
   "outputs": [
    {
     "data": {
      "text/html": [
       "<div>\n",
       "<style scoped>\n",
       "    .dataframe tbody tr th:only-of-type {\n",
       "        vertical-align: middle;\n",
       "    }\n",
       "\n",
       "    .dataframe tbody tr th {\n",
       "        vertical-align: top;\n",
       "    }\n",
       "\n",
       "    .dataframe thead th {\n",
       "        text-align: right;\n",
       "    }\n",
       "</style>\n",
       "<table border=\"1\" class=\"dataframe\">\n",
       "  <thead>\n",
       "    <tr style=\"text-align: right;\">\n",
       "      <th></th>\n",
       "      <th>Number</th>\n",
       "      <th>Name</th>\n",
       "    </tr>\n",
       "  </thead>\n",
       "  <tbody>\n",
       "    <tr>\n",
       "      <th>0</th>\n",
       "      <td>1</td>\n",
       "      <td>Alice</td>\n",
       "    </tr>\n",
       "    <tr>\n",
       "      <th>1</th>\n",
       "      <td>2</td>\n",
       "      <td>Bob</td>\n",
       "    </tr>\n",
       "    <tr>\n",
       "      <th>2</th>\n",
       "      <td>3</td>\n",
       "      <td>Charlie</td>\n",
       "    </tr>\n",
       "    <tr>\n",
       "      <th>3</th>\n",
       "      <td>4</td>\n",
       "      <td>Diane</td>\n",
       "    </tr>\n",
       "    <tr>\n",
       "      <th>4</th>\n",
       "      <td>4</td>\n",
       "      <td>Elen</td>\n",
       "    </tr>\n",
       "  </tbody>\n",
       "</table>\n",
       "</div>"
      ],
      "text/plain": [
       "   Number     Name\n",
       "0       1    Alice\n",
       "1       2      Bob\n",
       "2       3  Charlie\n",
       "3       4    Diane\n",
       "4       4     Elen"
      ]
     },
     "execution_count": 4,
     "metadata": {},
     "output_type": "execute_result"
    }
   ],
   "source": [
    "table_array = df.loc[:,'Number':'Name']\n",
    "table_array"
   ]
  },
  {
   "cell_type": "markdown",
   "id": "29983ef9",
   "metadata": {},
   "source": [
    "Let's breakdown `df.loc`.\n",
    "\n",
    "The first label that we used is a `:`. This is to get the rows that we need, which is everything. So, in this case, `:` means everything.\n",
    "\n",
    "The second label that we used is `'Number':'Name'`. This is to indicate what we want all columns from ___Number___ to ___Name___.\n",
    "\n",
    "Using our `table_array`, let's find out how we can get our answer _Diane_."
   ]
  },
  {
   "cell_type": "markdown",
   "id": "6110279e",
   "metadata": {},
   "source": [
    "## Get the answer"
   ]
  },
  {
   "cell_type": "markdown",
   "id": "ede50f4d",
   "metadata": {},
   "source": [
    "### Step 1 - Get the name of the column where we want to look for our lookup value."
   ]
  },
  {
   "cell_type": "code",
   "execution_count": 5,
   "id": "4758d54a",
   "metadata": {},
   "outputs": [
    {
     "data": {
      "text/plain": [
       "'Number'"
      ]
     },
     "execution_count": 5,
     "metadata": {},
     "output_type": "execute_result"
    }
   ],
   "source": [
    "col_name_to_look_for_lookup_value = table_array.columns[0]\n",
    "col_name_to_look_for_lookup_value"
   ]
  },
  {
   "cell_type": "markdown",
   "id": "f7a54b25",
   "metadata": {},
   "source": [
    "`table_array.columns[0]`\n",
    "\n",
    "`0` is used here because we know that in doing vlookups, it's always the first column where we look for our lookup value. Thus, `0` means first column."
   ]
  },
  {
   "cell_type": "markdown",
   "id": "7f4f1b3e",
   "metadata": {},
   "source": [
    "### Step 2 - Get the name of the column where we want to look for our answer."
   ]
  },
  {
   "cell_type": "code",
   "execution_count": 6,
   "id": "8e21aef2",
   "metadata": {},
   "outputs": [
    {
     "data": {
      "text/plain": [
       "'Name'"
      ]
     },
     "execution_count": 6,
     "metadata": {},
     "output_type": "execute_result"
    }
   ],
   "source": [
    "col_name_to_look_for_answer = table_array.columns[col_index_num-1]\n",
    "col_name_to_look_for_answer"
   ]
  },
  {
   "cell_type": "markdown",
   "id": "9049a643",
   "metadata": {},
   "source": [
    "We have to subtract `1` from `col_index_num` because Python starts counting from zero."
   ]
  },
  {
   "cell_type": "markdown",
   "id": "00eb2e01",
   "metadata": {},
   "source": [
    "### Step 3 - Get the details of the column name that we got from Step 1."
   ]
  },
  {
   "cell_type": "code",
   "execution_count": 7,
   "id": "8ebad516",
   "metadata": {},
   "outputs": [
    {
     "data": {
      "text/plain": [
       "0    1\n",
       "1    2\n",
       "2    3\n",
       "3    4\n",
       "4    4\n",
       "Name: Number, dtype: int64"
      ]
     },
     "execution_count": 7,
     "metadata": {},
     "output_type": "execute_result"
    }
   ],
   "source": [
    "col_to_look_for_lookup_value = table_array[col_name_to_look_for_lookup_value]\n",
    "col_to_look_for_lookup_value"
   ]
  },
  {
   "cell_type": "markdown",
   "id": "9d5b7ea3",
   "metadata": {},
   "source": [
    "`table_array[col_name_to_look_for_lookup_value]` is the same as `table_array['Number']`.\n",
    "\n",
    "This is how we get the details for column ___Number___."
   ]
  },
  {
   "cell_type": "markdown",
   "id": "005648a2",
   "metadata": {},
   "source": [
    "### Step 4 - Get the details of the column name that we got from Step 2."
   ]
  },
  {
   "cell_type": "code",
   "execution_count": 8,
   "id": "75f5444e",
   "metadata": {
    "scrolled": true
   },
   "outputs": [
    {
     "data": {
      "text/plain": [
       "0      Alice\n",
       "1        Bob\n",
       "2    Charlie\n",
       "3      Diane\n",
       "4       Elen\n",
       "Name: Name, dtype: object"
      ]
     },
     "execution_count": 8,
     "metadata": {},
     "output_type": "execute_result"
    }
   ],
   "source": [
    "col_to_look_for_answer = table_array[col_name_to_look_for_answer]\n",
    "col_to_look_for_answer"
   ]
  },
  {
   "cell_type": "markdown",
   "id": "56e46f17",
   "metadata": {},
   "source": [
    "`table_array[col_name_to_look_for_answer]` is the same as `table_array['Name']`.\n",
    "\n",
    "This is how we get the details for column ___Name___."
   ]
  },
  {
   "cell_type": "markdown",
   "id": "85107f0b",
   "metadata": {},
   "source": [
    "### Step 5 - Get the index of the first instance of our lookup value.\n",
    "\n",
    "From the output above, the _index_ we are looking for is _index_ _3_.\n",
    "\n",
    "_Index_ is the one on the left side of the output. It's like Excel's row number but counted from zero."
   ]
  },
  {
   "cell_type": "code",
   "execution_count": 9,
   "id": "ccc1d3f9",
   "metadata": {},
   "outputs": [
    {
     "data": {
      "text/plain": [
       "3    4\n",
       "4    4\n",
       "Name: Number, dtype: int64"
      ]
     },
     "execution_count": 9,
     "metadata": {},
     "output_type": "execute_result"
    }
   ],
   "source": [
    "col_to_look_for_lookup_value[col_to_look_for_lookup_value == lookup_value]"
   ]
  },
  {
   "cell_type": "markdown",
   "id": "ac371124",
   "metadata": {},
   "source": [
    "By running the above code, we got all the rows where ___Number___ is equal to our `lookup_value`.\n",
    "\n",
    "To get the indexes, we run the following code:"
   ]
  },
  {
   "cell_type": "code",
   "execution_count": 10,
   "id": "3b9e4af0",
   "metadata": {},
   "outputs": [
    {
     "data": {
      "text/plain": [
       "Int64Index([3, 4], dtype='int64')"
      ]
     },
     "execution_count": 10,
     "metadata": {},
     "output_type": "execute_result"
    }
   ],
   "source": [
    "col_to_look_for_lookup_value[col_to_look_for_lookup_value == lookup_value].index"
   ]
  },
  {
   "cell_type": "markdown",
   "id": "0a287ae6",
   "metadata": {},
   "source": [
    "And because we have multiple instances of our matched `lookup_value`, we just need to get the first one, the same as Excel's ___VLOOKUP___."
   ]
  },
  {
   "cell_type": "code",
   "execution_count": 11,
   "id": "aa0d83e6",
   "metadata": {},
   "outputs": [
    {
     "data": {
      "text/plain": [
       "3"
      ]
     },
     "execution_count": 11,
     "metadata": {},
     "output_type": "execute_result"
    }
   ],
   "source": [
    "index_of_lookup_value = col_to_look_for_lookup_value[col_to_look_for_lookup_value == lookup_value].index[0]\n",
    "index_of_lookup_value"
   ]
  },
  {
   "cell_type": "markdown",
   "id": "0d1cce67",
   "metadata": {},
   "source": [
    "Now that we got the _index_ that we are looking for, let's proceed to the next step."
   ]
  },
  {
   "cell_type": "markdown",
   "id": "4528a4b4",
   "metadata": {},
   "source": [
    "### Step 6 - Get the answer that we are looking for.\n",
    "\n",
    "Because we already got the _index_ of the column where we look for the `lookup_value`, we just need to use that _index_ to get the value that we are looking for."
   ]
  },
  {
   "cell_type": "code",
   "execution_count": 12,
   "id": "e7701cf0",
   "metadata": {},
   "outputs": [
    {
     "data": {
      "text/plain": [
       "'Diane'"
      ]
     },
     "execution_count": 12,
     "metadata": {},
     "output_type": "execute_result"
    }
   ],
   "source": [
    "col_to_look_for_answer[index_of_lookup_value]"
   ]
  },
  {
   "cell_type": "markdown",
   "id": "a1b45378",
   "metadata": {},
   "source": [
    "Now that we got our answer. Let's combine all what we've done to create a Python ___VLOOKUP___ function"
   ]
  },
  {
   "cell_type": "markdown",
   "id": "5576ce6e",
   "metadata": {},
   "source": [
    "## Python VLOOKUP function"
   ]
  },
  {
   "cell_type": "code",
   "execution_count": 13,
   "id": "d6e379da",
   "metadata": {},
   "outputs": [],
   "source": [
    "def vlookup(lookup_value,table_array,col_index_num):\n",
    "    col_to_look_for_answer = table_array[table_array.columns[col_index_num-1]]\n",
    "    col_to_look_for_lookup_value = table_array[table_array.columns[0]]\n",
    "    index_of_lookup_value = col_to_look_for_lookup_value[col_to_look_for_lookup_value == lookup_value].index[0]\n",
    "    return col_to_look_for_answer[index_of_lookup_value]\n"
   ]
  },
  {
   "cell_type": "markdown",
   "id": "01bf6f56",
   "metadata": {},
   "source": [
    "Finally, let's try it!"
   ]
  },
  {
   "cell_type": "code",
   "execution_count": 14,
   "id": "ec871078",
   "metadata": {},
   "outputs": [
    {
     "data": {
      "text/plain": [
       "'Diane'"
      ]
     },
     "execution_count": 14,
     "metadata": {},
     "output_type": "execute_result"
    }
   ],
   "source": [
    "lookup_value = 4\n",
    "col_index_num = 2\n",
    "table_array = df.loc[:,'Number':'Name']\n",
    "result = vlookup(lookup_value,table_array,col_index_num)\n",
    "result"
   ]
  },
  {
   "cell_type": "markdown",
   "id": "5f167058",
   "metadata": {},
   "source": [
    "If you use ___VLOOKUP___ _(what are you doing with Excel if you don't? Lol)_, I'm sure that you observed that there's something missing in our formula. In Excel's ___VLOOKUP___ formula, we have to put _True_ or _False_ after _col_index_num_ to indicate whether we are looking for _Approximate Match_ or _Exact Match_. I explicitly removed that from our Python function. Thus, it always retrieves the _Exact Match_."
   ]
  }
 ],
 "metadata": {
  "kernelspec": {
   "display_name": "Python 3 (ipykernel)",
   "language": "python",
   "name": "python3"
  },
  "language_info": {
   "codemirror_mode": {
    "name": "ipython",
    "version": 3
   },
   "file_extension": ".py",
   "mimetype": "text/x-python",
   "name": "python",
   "nbconvert_exporter": "python",
   "pygments_lexer": "ipython3",
   "version": "3.8.10"
  }
 },
 "nbformat": 4,
 "nbformat_minor": 5
}
